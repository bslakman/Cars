{
 "cells": [
  {
   "cell_type": "code",
   "execution_count": 38,
   "metadata": {
    "collapsed": true
   },
   "outputs": [],
   "source": [
    "import requests\n",
    "import json"
   ]
  },
  {
   "cell_type": "code",
   "execution_count": 45,
   "metadata": {
    "collapsed": false
   },
   "outputs": [],
   "source": [
    "f = open('api.txt', 'r')\n",
    "key = f.read()\n",
    "f.close()\n",
    "parameters = {'api_key': key}\n",
    "response = requests.get(\"https://api.edmunds.com/api/vehicle/v2/:makes?\", params=parameters)\n",
    "data = response.json()"
   ]
  },
  {
   "cell_type": "code",
   "execution_count": 46,
   "metadata": {
    "collapsed": true
   },
   "outputs": [],
   "source": [
    "nice_name = data['status']\n",
    "parameters = {'makeNiceName': nice_name, 'year': 2012, 'fmt': json}\n",
    "civic_data = requests.get(\"https://api.edmunds.com/api/vehicle/v2/:makeNiceName?api_key=2e7hjvffdg4x4mvrw2vtgvad\", params=parameters).json()"
   ]
  },
  {
   "cell_type": "code",
   "execution_count": 47,
   "metadata": {
    "collapsed": false
   },
   "outputs": [
    {
     "name": "stdout",
     "output_type": "stream",
     "text": [
      "{u'status': u'FORBIDDEN', u'message': u'Account Over Rate Limit', u'errorType': u'AUTHENTICATION_ERROR', u'moreInfoUrl': u'http://developer.edmunds.com'}\n"
     ]
    }
   ],
   "source": [
    "print(civic_data)"
   ]
  },
  {
   "cell_type": "markdown",
   "metadata": {},
   "source": [
    "craigslist price - kelly blue book value = dealer price - what they'll give you for it (percentage). give a range of uncertainties..."
   ]
  },
  {
   "cell_type": "code",
   "execution_count": null,
   "metadata": {
    "collapsed": true
   },
   "outputs": [],
   "source": []
  }
 ],
 "metadata": {
  "anaconda-cloud": {},
  "kernelspec": {
   "display_name": "Python [conda env:ds30_3]",
   "language": "python",
   "name": "conda-env-ds30_3-py"
  },
  "language_info": {
   "codemirror_mode": {
    "name": "ipython",
    "version": 2
   },
   "file_extension": ".py",
   "mimetype": "text/x-python",
   "name": "python",
   "nbconvert_exporter": "python",
   "pygments_lexer": "ipython2",
   "version": "2.7.11"
  }
 },
 "nbformat": 4,
 "nbformat_minor": 1
}
