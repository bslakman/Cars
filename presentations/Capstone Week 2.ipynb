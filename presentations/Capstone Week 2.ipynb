{
 "cells": [
  {
   "cell_type": "markdown",
   "metadata": {
    "slideshow": {
     "slide_type": "-"
    }
   },
   "source": [
    "<h1>Car Sale Estimates</h1>"
   ]
  },
  {
   "cell_type": "markdown",
   "metadata": {},
   "source": [
    "### The goal of this project is to provide estimates to people trying to sell their used car in a variety of ways.\n",
    "#### Data Sources:\n",
    "* [Craigslist Boston](https://boston.craigslist.org/cto)\n",
    "* [Edmunds API](https://developer.edmunds.com)\n",
    "* Used car websites e.g. [TrueCar](https://www.truecar.com)"
   ]
  },
  {
   "cell_type": "code",
   "execution_count": 6,
   "metadata": {
    "collapsed": false
   },
   "outputs": [
    {
     "name": "stdout",
     "output_type": "stream",
     "text": [
      "3432\n"
     ]
    },
    {
     "data": {
      "text/html": [
       "<div>\n",
       "<table border=\"1\" class=\"dataframe\">\n",
       "  <thead>\n",
       "    <tr style=\"text-align: right;\">\n",
       "      <th></th>\n",
       "      <th>description</th>\n",
       "      <th>location</th>\n",
       "      <th>price</th>\n",
       "      <th>mileage</th>\n",
       "      <th>region</th>\n",
       "      <th>year</th>\n",
       "      <th>std_location</th>\n",
       "    </tr>\n",
       "    <tr>\n",
       "      <th>link</th>\n",
       "      <th></th>\n",
       "      <th></th>\n",
       "      <th></th>\n",
       "      <th></th>\n",
       "      <th></th>\n",
       "      <th></th>\n",
       "      <th></th>\n",
       "    </tr>\n",
       "  </thead>\n",
       "  <tbody>\n",
       "    <tr>\n",
       "      <th>/gbs/cto/6038299048.html</th>\n",
       "      <td>Family Car Cadillac CTS 2008 V6</td>\n",
       "      <td>Boston</td>\n",
       "      <td>3213.0</td>\n",
       "      <td>NaN</td>\n",
       "      <td>gbs/</td>\n",
       "      <td>2008.0</td>\n",
       "      <td>bosto</td>\n",
       "    </tr>\n",
       "    <tr>\n",
       "      <th>/sob/cto/6028224022.html</th>\n",
       "      <td>2011 Nissan Maxima</td>\n",
       "      <td>Taunton</td>\n",
       "      <td>10500.0</td>\n",
       "      <td>NaN</td>\n",
       "      <td>sob/</td>\n",
       "      <td>2011.0</td>\n",
       "      <td>taunt</td>\n",
       "    </tr>\n",
       "    <tr>\n",
       "      <th>/gbs/cto/6020990658.html</th>\n",
       "      <td>2005 VW Jetta 80k miles, great condition</td>\n",
       "      <td></td>\n",
       "      <td>3500.0</td>\n",
       "      <td>80000.0</td>\n",
       "      <td>gbs/</td>\n",
       "      <td>2005.0</td>\n",
       "      <td></td>\n",
       "    </tr>\n",
       "    <tr>\n",
       "      <th>/gbs/cto/6038298193.html</th>\n",
       "      <td>1999 Ford Ranger XLT auto 2 wheel drive 4 cyli...</td>\n",
       "      <td>Derry</td>\n",
       "      <td>2500.0</td>\n",
       "      <td>NaN</td>\n",
       "      <td>gbs/</td>\n",
       "      <td>1999.0</td>\n",
       "      <td>derry</td>\n",
       "    </tr>\n",
       "    <tr>\n",
       "      <th>/gbs/cto/6037009052.html</th>\n",
       "      <td>TOYOTA 2007 !!! ONE OWNER ONLY</td>\n",
       "      <td>PROVIDENCE</td>\n",
       "      <td>4950.0</td>\n",
       "      <td>NaN</td>\n",
       "      <td>gbs/</td>\n",
       "      <td>2007.0</td>\n",
       "      <td>provi</td>\n",
       "    </tr>\n",
       "  </tbody>\n",
       "</table>\n",
       "</div>"
      ],
      "text/plain": [
       "                                                                description  \\\n",
       "link                                                                          \n",
       "/gbs/cto/6038299048.html                    Family Car Cadillac CTS 2008 V6   \n",
       "/sob/cto/6028224022.html                                 2011 Nissan Maxima   \n",
       "/gbs/cto/6020990658.html           2005 VW Jetta 80k miles, great condition   \n",
       "/gbs/cto/6038298193.html  1999 Ford Ranger XLT auto 2 wheel drive 4 cyli...   \n",
       "/gbs/cto/6037009052.html                     TOYOTA 2007 !!! ONE OWNER ONLY   \n",
       "\n",
       "                            location    price  mileage region    year  \\\n",
       "link                                                                    \n",
       "/gbs/cto/6038299048.html      Boston   3213.0      NaN   gbs/  2008.0   \n",
       "/sob/cto/6028224022.html     Taunton  10500.0      NaN   sob/  2011.0   \n",
       "/gbs/cto/6020990658.html               3500.0  80000.0   gbs/  2005.0   \n",
       "/gbs/cto/6038298193.html       Derry   2500.0      NaN   gbs/  1999.0   \n",
       "/gbs/cto/6037009052.html  PROVIDENCE   4950.0      NaN   gbs/  2007.0   \n",
       "\n",
       "                         std_location  \n",
       "link                                   \n",
       "/gbs/cto/6038299048.html        bosto  \n",
       "/sob/cto/6028224022.html        taunt  \n",
       "/gbs/cto/6020990658.html               \n",
       "/gbs/cto/6038298193.html        derry  \n",
       "/gbs/cto/6037009052.html        provi  "
      ]
     },
     "execution_count": 6,
     "metadata": {},
     "output_type": "execute_result"
    }
   ],
   "source": [
    "%store -r all_car_info\n",
    "print len(all_car_info)\n",
    "all_car_info[10:15]"
   ]
  },
  {
   "cell_type": "markdown",
   "metadata": {},
   "source": [
    "![](linreg.png)"
   ]
  },
  {
   "cell_type": "code",
   "execution_count": 4,
   "metadata": {
    "collapsed": false
   },
   "outputs": [
    {
     "data": {
      "text/html": [
       "<div>\n",
       "<table border=\"1\" class=\"dataframe\">\n",
       "  <thead>\n",
       "    <tr style=\"text-align: right;\">\n",
       "      <th></th>\n",
       "      <th>VIN</th>\n",
       "      <th>condition</th>\n",
       "      <th>cylinders</th>\n",
       "      <th>drive</th>\n",
       "      <th>fuel</th>\n",
       "      <th>odometer</th>\n",
       "      <th>paint color</th>\n",
       "      <th>size</th>\n",
       "      <th>title status</th>\n",
       "      <th>transmission</th>\n",
       "      <th>type</th>\n",
       "      <th>year_make_model</th>\n",
       "    </tr>\n",
       "    <tr>\n",
       "      <th>link</th>\n",
       "      <th></th>\n",
       "      <th></th>\n",
       "      <th></th>\n",
       "      <th></th>\n",
       "      <th></th>\n",
       "      <th></th>\n",
       "      <th></th>\n",
       "      <th></th>\n",
       "      <th></th>\n",
       "      <th></th>\n",
       "      <th></th>\n",
       "      <th></th>\n",
       "    </tr>\n",
       "  </thead>\n",
       "  <tbody>\n",
       "    <tr>\n",
       "      <th>/sob/cto/6031899704.html</th>\n",
       "      <td>NaN</td>\n",
       "      <td>good</td>\n",
       "      <td>8 cylinders</td>\n",
       "      <td>4wd</td>\n",
       "      <td>gas</td>\n",
       "      <td>4006000</td>\n",
       "      <td>silver</td>\n",
       "      <td>full-size</td>\n",
       "      <td>clean</td>\n",
       "      <td>automatic</td>\n",
       "      <td>NaN</td>\n",
       "      <td>2005 chevrolet silverado 1500 lt 4wd</td>\n",
       "    </tr>\n",
       "    <tr>\n",
       "      <th>/gbs/cto/6054112930.html</th>\n",
       "      <td>1FM5K8D89DGB85639</td>\n",
       "      <td>like new</td>\n",
       "      <td>6 cylinders</td>\n",
       "      <td>4wd</td>\n",
       "      <td>gas</td>\n",
       "      <td>112062</td>\n",
       "      <td>grey</td>\n",
       "      <td>NaN</td>\n",
       "      <td>clean</td>\n",
       "      <td>automatic</td>\n",
       "      <td>SUV</td>\n",
       "      <td>2013 2013 FORD EXPLORER XLTA</td>\n",
       "    </tr>\n",
       "    <tr>\n",
       "      <th>/gbs/cto/6054175468.html</th>\n",
       "      <td>NaN</td>\n",
       "      <td>good</td>\n",
       "      <td>4 cylinders</td>\n",
       "      <td>fwd</td>\n",
       "      <td>gas</td>\n",
       "      <td>138000</td>\n",
       "      <td>white</td>\n",
       "      <td>mid-size</td>\n",
       "      <td>clean</td>\n",
       "      <td>automatic</td>\n",
       "      <td>sedan</td>\n",
       "      <td>2006 nissan altima</td>\n",
       "    </tr>\n",
       "    <tr>\n",
       "      <th>/nwb/cto/6054125816.html</th>\n",
       "      <td>NaN</td>\n",
       "      <td>NaN</td>\n",
       "      <td>NaN</td>\n",
       "      <td>NaN</td>\n",
       "      <td>NaN</td>\n",
       "      <td>NaN</td>\n",
       "      <td>NaN</td>\n",
       "      <td>NaN</td>\n",
       "      <td>NaN</td>\n",
       "      <td>NaN</td>\n",
       "      <td>NaN</td>\n",
       "      <td>NaN</td>\n",
       "    </tr>\n",
       "    <tr>\n",
       "      <th>/gbs/cto/6038270751.html</th>\n",
       "      <td>NaN</td>\n",
       "      <td>excellent</td>\n",
       "      <td>4 cylinders</td>\n",
       "      <td>fwd</td>\n",
       "      <td>gas</td>\n",
       "      <td>145000</td>\n",
       "      <td>red</td>\n",
       "      <td>NaN</td>\n",
       "      <td>clean</td>\n",
       "      <td>automatic</td>\n",
       "      <td>NaN</td>\n",
       "      <td>2004 toyota corolla</td>\n",
       "    </tr>\n",
       "  </tbody>\n",
       "</table>\n",
       "</div>"
      ],
      "text/plain": [
       "                                        VIN  condition    cylinders drive  \\\n",
       "link                                                                        \n",
       "/sob/cto/6031899704.html                NaN       good  8 cylinders   4wd   \n",
       "/gbs/cto/6054112930.html  1FM5K8D89DGB85639   like new  6 cylinders   4wd   \n",
       "/gbs/cto/6054175468.html                NaN       good  4 cylinders   fwd   \n",
       "/nwb/cto/6054125816.html                NaN        NaN          NaN   NaN   \n",
       "/gbs/cto/6038270751.html                NaN  excellent  4 cylinders   fwd   \n",
       "\n",
       "                         fuel odometer paint color       size title status  \\\n",
       "link                                                                         \n",
       "/sob/cto/6031899704.html  gas  4006000      silver  full-size        clean   \n",
       "/gbs/cto/6054112930.html  gas   112062        grey        NaN        clean   \n",
       "/gbs/cto/6054175468.html  gas   138000       white   mid-size        clean   \n",
       "/nwb/cto/6054125816.html  NaN      NaN         NaN        NaN          NaN   \n",
       "/gbs/cto/6038270751.html  gas   145000         red        NaN        clean   \n",
       "\n",
       "                         transmission   type  \\\n",
       "link                                           \n",
       "/sob/cto/6031899704.html    automatic    NaN   \n",
       "/gbs/cto/6054112930.html    automatic    SUV   \n",
       "/gbs/cto/6054175468.html    automatic  sedan   \n",
       "/nwb/cto/6054125816.html          NaN    NaN   \n",
       "/gbs/cto/6038270751.html    automatic    NaN   \n",
       "\n",
       "                                               year_make_model  \n",
       "link                                                            \n",
       "/sob/cto/6031899704.html  2005 chevrolet silverado 1500 lt 4wd  \n",
       "/gbs/cto/6054112930.html          2013 2013 FORD EXPLORER XLTA  \n",
       "/gbs/cto/6054175468.html                    2006 nissan altima  \n",
       "/nwb/cto/6054125816.html                                   NaN  \n",
       "/gbs/cto/6038270751.html                   2004 toyota corolla  "
      ]
     },
     "execution_count": 4,
     "metadata": {},
     "output_type": "execute_result"
    }
   ],
   "source": [
    "%store -r attr_df\n",
    "attr_df[3:8]"
   ]
  },
  {
   "cell_type": "markdown",
   "metadata": {},
   "source": [
    "![](ford_focus_pricing.png)"
   ]
  },
  {
   "cell_type": "markdown",
   "metadata": {
    "collapsed": true
   },
   "source": [
    "Retail markup by $ | Retail markup by %\n",
    "- | -\n",
    "![](markup.png) | ![](markup_pct.png)"
   ]
  },
  {
   "cell_type": "markdown",
   "metadata": {},
   "source": [
    "### Future goals:\n",
    "* Build a model using newly scraped Craigslist information\n",
    "* Use car dealership information [truecar.com](https://www.truecar.com) along with Edmunds data\n",
    "* Working on web app for users to input information"
   ]
  }
 ],
 "metadata": {
  "kernelspec": {
   "display_name": "Python 2",
   "language": "python",
   "name": "python2"
  },
  "language_info": {
   "codemirror_mode": {
    "name": "ipython",
    "version": 2
   },
   "file_extension": ".py",
   "mimetype": "text/x-python",
   "name": "python",
   "nbconvert_exporter": "python",
   "pygments_lexer": "ipython2",
   "version": "2.7.13"
  }
 },
 "nbformat": 4,
 "nbformat_minor": 2
}
