{
 "cells": [
  {
   "cell_type": "code",
   "execution_count": 32,
   "metadata": {
    "collapsed": true
   },
   "outputs": [],
   "source": [
    "import requests\n",
    "from bs4 import BeautifulSoup"
   ]
  },
  {
   "cell_type": "code",
   "execution_count": 24,
   "metadata": {
    "collapsed": true
   },
   "outputs": [],
   "source": [
    "def fetch(query = None, auto_make_model = None, min_auto_year = None, max_auto_year = None):\n",
    "    search_params = {key: val for key, val in locals().items() if val is not None}\n",
    "    if not search_params: \n",
    "        raise ValueError(\"No valid keywords\")\n",
    "        \n",
    "    base = \"http://boston.craigslist.org/search/cto\"\n",
    "    resp = requests.get(base, params=search_params, timeout=3)\n",
    "    resp.raise_for_status()\n",
    "    return resp.content, resp.encoding"
   ]
  },
  {
   "cell_type": "code",
   "execution_count": 25,
   "metadata": {
    "collapsed": false
   },
   "outputs": [],
   "source": [
    "car_results = fetch(auto_make_model=\"honda civic\", min_auto_year=2010, max_auto_year=2014)"
   ]
  },
  {
   "cell_type": "code",
   "execution_count": 33,
   "metadata": {
    "collapsed": true
   },
   "outputs": [],
   "source": [
    "def parse(html, encoding='utf-8'):\n",
    "    parsed = BeautifulSoup(html, from_encoding=encoding)\n",
    "    return parsed"
   ]
  },
  {
   "cell_type": "code",
   "execution_count": 90,
   "metadata": {
    "collapsed": false
   },
   "outputs": [],
   "source": [
    "def extract_listings(parsed):\n",
    "    #title_attr = {'data-id'}\n",
    "    listings = parsed.find_all('p', class_='result-info')\n",
    "    extracted = []\n",
    "    for listing in listings:\n",
    "        title = listing.find('a')\n",
    "        title = {key: listing.attrs.get(key, '') for key in title_attr}\n",
    "    #    this_listing = {\n",
    "    #        'ID': title,\n",
    "    #    }\n",
    "    #    extracted.append(this_listing)\n",
    "    return listings #extracted"
   ]
  },
  {
   "cell_type": "code",
   "execution_count": 91,
   "metadata": {
    "collapsed": false
   },
   "outputs": [],
   "source": [
    "doc = parse(car_results[0])\n",
    "#print(doc.prettify())"
   ]
  },
  {
   "cell_type": "code",
   "execution_count": 92,
   "metadata": {
    "collapsed": false
   },
   "outputs": [
    {
     "name": "stdout",
     "output_type": "stream",
     "text": [
      "100\n",
      "<p class=\"result-info\">\n",
      "<span class=\"icon icon-star\" role=\"button\">\n",
      "<span class=\"screen-reader-text\">favorite this post</span>\n",
      "</span>\n",
      "<time class=\"result-date\" datetime=\"2017-01-30 12:37\" title=\"Mon 30 Jan 12:37:28 PM\">Jan 30</time>\n",
      "<a class=\"result-title hdrlnk\" data-id=\"5974084789\" href=\"/bmw/cto/5974084789.html\">Honda Civic LX Limited For You</a>\n",
      "<span class=\"result-meta\">\n",
      "<span class=\"result-price\">$1500</span>\n",
      "<span class=\"result-hood\"> (Temple)</span>\n",
      "<span class=\"result-tags\">\n",
      "                    pic\n",
      "                    <span class=\"maptag\" data-pid=\"5974084789\">map</span>\n",
      "</span>\n",
      "<span class=\"banish icon icon-trash\" role=\"button\">\n",
      "<span class=\"screen-reader-text\">hide this posting</span>\n",
      "</span>\n",
      "<span aria-hidden=\"true\" class=\"unbanish icon icon-trash red\" role=\"button\"></span>\n",
      "<a class=\"restore-link\" href=\"#\">\n",
      "<span class=\"restore-narrow-text\">restore</span>\n",
      "<span class=\"restore-wide-text\">restore this posting</span>\n",
      "</a>\n",
      "</span>\n",
      "</p>\n"
     ]
    }
   ],
   "source": [
    "listings = extract_listings(doc)\n",
    "print len(listings)\n",
    "print listings[5]"
   ]
  },
  {
   "cell_type": "code",
   "execution_count": null,
   "metadata": {
    "collapsed": true
   },
   "outputs": [],
   "source": []
  }
 ],
 "metadata": {
  "kernelspec": {
   "display_name": "Python [conda env:ds30_3]",
   "language": "python",
   "name": "conda-env-ds30_3-py"
  },
  "language_info": {
   "codemirror_mode": {
    "name": "ipython",
    "version": 2
   },
   "file_extension": ".py",
   "mimetype": "text/x-python",
   "name": "python",
   "nbconvert_exporter": "python",
   "pygments_lexer": "ipython2",
   "version": "2.7.11"
  }
 },
 "nbformat": 4,
 "nbformat_minor": 1
}
